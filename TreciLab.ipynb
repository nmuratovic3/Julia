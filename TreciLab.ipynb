{
  "nbformat": 4,
  "nbformat_minor": 0,
  "metadata": {
    "accelerator": "GPU",
    "colab": {
      "provenance": [],
      "collapsed_sections": []
    },
    "kernelspec": {
      "display_name": "Julia 1.5",
      "name": "julia-1.5"
    }
  },
  "cells": [
    {
      "cell_type": "markdown",
      "metadata": {
        "id": "TjavZvG9KwvF"
      },
      "source": [
        "### **Postavka Julie u Google Colab**\n",
        "\n",
        "Potrebno je preuzeti ovaj notebook, upload-ovati ga i pokrenuti kôd ispod prilikom kreiranja notebook-a za sve vježbe. Nakon pokretanja, potrebno je restartovati notebook. U *Runtime* kliknite na *Change runtime type* i odaberite Juliu i GPU. Sada možete koristiti Juliu za sve što radite.\n",
        "\n",
        "U slučaju da vam krene izbacivati greške radi gubitka trenutne sesije izvršite sve naredbe opet i restartujte notebook.\n",
        "\n",
        "\n"
      ]
    },
    {
      "cell_type": "code",
      "metadata": {
        "colab": {
          "base_uri": "https://localhost:8080/"
        },
        "id": "oMSuTc3pDlHv",
        "outputId": "3ac8df92-c7f6-46cc-ec03-576ca4c9225a"
      },
      "source": [
        "!curl -sSL \"https://julialang-s3.julialang.org/bin/linux/x64/1.5/julia-1.5.2-linux-x86_64.tar.gz\" -o julia.tar.gz\n",
        "!tar -xzf julia.tar.gz -C /usr --strip-components 1\n",
        "!rm -rf julia.tar.gz*\n",
        "!julia -e 'using Pkg; pkg\"add IJulia; precompile\"'\n",
        "!echo \"DONE\""
      ],
      "execution_count": null,
      "outputs": [
        {
          "output_type": "stream",
          "name": "stdout",
          "text": [
            "\u001b[32m\u001b[1m Installing\u001b[22m\u001b[39m known registries into `~/.julia`\n",
            "######################################################################## 100.0%\n",
            "\u001b[32m\u001b[1m      Added\u001b[22m\u001b[39m registry `General` to `~/.julia/registries/General`\n",
            "\u001b[32m\u001b[1m  Resolving\u001b[22m\u001b[39m package versions...\n",
            "\u001b[32m\u001b[1m  Installed\u001b[22m\u001b[39m ZeroMQ_jll ───────── v4.3.2+6\n",
            "\u001b[32m\u001b[1m  Installed\u001b[22m\u001b[39m SoftGlobalScope ──── v1.1.0\n",
            "\u001b[32m\u001b[1m  Installed\u001b[22m\u001b[39m ZMQ ──────────────── v1.2.1\n",
            "\u001b[32m\u001b[1m  Installed\u001b[22m\u001b[39m Zlib_jll ─────────── v1.2.11+18\n",
            "\u001b[32m\u001b[1m  Installed\u001b[22m\u001b[39m MbedTLS ──────────── v1.0.3\n",
            "\u001b[32m\u001b[1m  Installed\u001b[22m\u001b[39m IJulia ───────────── v1.23.2\n",
            "\u001b[32m\u001b[1m  Installed\u001b[22m\u001b[39m TOML ─────────────── v1.0.3\n",
            "\u001b[32m\u001b[1m  Installed\u001b[22m\u001b[39m ArgTools ─────────── v1.1.1\n",
            "\u001b[32m\u001b[1m  Installed\u001b[22m\u001b[39m Conda ────────────── v1.6.0\n",
            "\u001b[32m\u001b[1m  Installed\u001b[22m\u001b[39m Preferences ──────── v1.2.2\n",
            "\u001b[32m\u001b[1m  Installed\u001b[22m\u001b[39m MbedTLS_jll ──────── v2.16.8+1\n",
            "\u001b[32m\u001b[1m  Installed\u001b[22m\u001b[39m MozillaCACerts_jll ─ v2021.1.19+0\n",
            "\u001b[32m\u001b[1m  Installed\u001b[22m\u001b[39m VersionParsing ───── v1.2.1\n",
            "\u001b[32m\u001b[1m  Installed\u001b[22m\u001b[39m Parsers ──────────── v2.1.2\n",
            "\u001b[32m\u001b[1m  Installed\u001b[22m\u001b[39m LibSSH2_jll ──────── v1.9.0+3\n",
            "\u001b[32m\u001b[1m  Installed\u001b[22m\u001b[39m JLLWrappers ──────── v1.3.0\n",
            "\u001b[32m\u001b[1m  Installed\u001b[22m\u001b[39m libsodium_jll ────── v1.0.19+0\n",
            "\u001b[32m\u001b[1m  Installed\u001b[22m\u001b[39m LibCURL_jll ──────── v7.70.0+2\n",
            "\u001b[32m\u001b[1m  Installed\u001b[22m\u001b[39m NetworkOptions ───── v1.2.0\n",
            "\u001b[32m\u001b[1m  Installed\u001b[22m\u001b[39m Artifacts ────────── v1.3.0\n",
            "\u001b[32m\u001b[1m  Installed\u001b[22m\u001b[39m nghttp2_jll ──────── v1.40.0+2\n",
            "\u001b[32m\u001b[1m  Installed\u001b[22m\u001b[39m Downloads ────────── v1.5.2\n",
            "\u001b[32m\u001b[1m  Installed\u001b[22m\u001b[39m LibCURL ──────────── v0.6.3\n",
            "\u001b[32m\u001b[1m  Installed\u001b[22m\u001b[39m JSON ─────────────── v0.21.2\n",
            "\u001b[32m\u001b[1mDownloading\u001b[22m\u001b[39m artifact: ZeroMQ\n",
            "######################################################################## 100.0%\n",
            "\u001b[1A\u001b[2K\u001b[?25h\u001b[32m\u001b[1mDownloading\u001b[22m\u001b[39m artifact: Zlib\n",
            "######################################################################## 100.0%\n",
            "\u001b[1A\u001b[2K\u001b[?25h\u001b[32m\u001b[1mDownloading\u001b[22m\u001b[39m artifact: MozillaCACerts\n",
            "######################################################################## 100.0%\n",
            "\u001b[1A\u001b[2K\u001b[?25h\u001b[32m\u001b[1mDownloading\u001b[22m\u001b[39m artifact: LibCURL\n",
            "######################################################################## 100.0%\n",
            "\u001b[1A\u001b[2K\u001b[?25h\u001b[32m\u001b[1mDownloading\u001b[22m\u001b[39m artifact: MbedTLS\n",
            "######################################################################## 100.0%\n",
            "\u001b[1A\u001b[2K\u001b[?25h\u001b[32m\u001b[1mDownloading\u001b[22m\u001b[39m artifact: LibSSH2\n",
            "######################################################################## 100.0%\n",
            "\u001b[1A\u001b[2K\u001b[?25h\u001b[32m\u001b[1mDownloading\u001b[22m\u001b[39m artifact: libsodium\n",
            "######################################################################## 100.0%\n",
            "\u001b[1A\u001b[2K\u001b[?25h\u001b[32m\u001b[1mDownloading\u001b[22m\u001b[39m artifact: nghttp2\n",
            "######################################################################## 100.0%\n",
            "\u001b[1A\u001b[2K\u001b[?25h\u001b[32m\u001b[1mUpdating\u001b[22m\u001b[39m `~/.julia/environments/v1.5/Project.toml`\n",
            " \u001b[90m [7073ff75] \u001b[39m\u001b[92m+ IJulia v1.23.2\u001b[39m\n",
            "\u001b[32m\u001b[1mUpdating\u001b[22m\u001b[39m `~/.julia/environments/v1.5/Manifest.toml`\n",
            " \u001b[90m [0dad84c5] \u001b[39m\u001b[92m+ ArgTools v1.1.1\u001b[39m\n",
            " \u001b[90m [56f22d72] \u001b[39m\u001b[92m+ Artifacts v1.3.0\u001b[39m\n",
            " \u001b[90m [8f4d0f93] \u001b[39m\u001b[92m+ Conda v1.6.0\u001b[39m\n",
            " \u001b[90m [f43a241f] \u001b[39m\u001b[92m+ Downloads v1.5.2\u001b[39m\n",
            " \u001b[90m [7073ff75] \u001b[39m\u001b[92m+ IJulia v1.23.2\u001b[39m\n",
            " \u001b[90m [692b3bcd] \u001b[39m\u001b[92m+ JLLWrappers v1.3.0\u001b[39m\n",
            " \u001b[90m [682c06a0] \u001b[39m\u001b[92m+ JSON v0.21.2\u001b[39m\n",
            " \u001b[90m [b27032c2] \u001b[39m\u001b[92m+ LibCURL v0.6.3\u001b[39m\n",
            " \u001b[90m [deac9b47] \u001b[39m\u001b[92m+ LibCURL_jll v7.70.0+2\u001b[39m\n",
            " \u001b[90m [29816b5a] \u001b[39m\u001b[92m+ LibSSH2_jll v1.9.0+3\u001b[39m\n",
            " \u001b[90m [739be429] \u001b[39m\u001b[92m+ MbedTLS v1.0.3\u001b[39m\n",
            " \u001b[90m [c8ffd9c3] \u001b[39m\u001b[92m+ MbedTLS_jll v2.16.8+1\u001b[39m\n",
            " \u001b[90m [14a3606d] \u001b[39m\u001b[92m+ MozillaCACerts_jll v2021.1.19+0\u001b[39m\n",
            " \u001b[90m [ca575930] \u001b[39m\u001b[92m+ NetworkOptions v1.2.0\u001b[39m\n",
            " \u001b[90m [69de0a69] \u001b[39m\u001b[92m+ Parsers v2.1.2\u001b[39m\n",
            " \u001b[90m [21216c6a] \u001b[39m\u001b[92m+ Preferences v1.2.2\u001b[39m\n",
            " \u001b[90m [b85f4697] \u001b[39m\u001b[92m+ SoftGlobalScope v1.1.0\u001b[39m\n",
            " \u001b[90m [fa267f1f] \u001b[39m\u001b[92m+ TOML v1.0.3\u001b[39m\n",
            " \u001b[90m [81def892] \u001b[39m\u001b[92m+ VersionParsing v1.2.1\u001b[39m\n",
            " \u001b[90m [c2297ded] \u001b[39m\u001b[92m+ ZMQ v1.2.1\u001b[39m\n",
            " \u001b[90m [8f1865be] \u001b[39m\u001b[92m+ ZeroMQ_jll v4.3.2+6\u001b[39m\n",
            " \u001b[90m [83775a58] \u001b[39m\u001b[92m+ Zlib_jll v1.2.11+18\u001b[39m\n",
            " \u001b[90m [a9144af2] \u001b[39m\u001b[92m+ libsodium_jll v1.0.19+0\u001b[39m\n",
            " \u001b[90m [8e850ede] \u001b[39m\u001b[92m+ nghttp2_jll v1.40.0+2\u001b[39m\n",
            " \u001b[90m [2a0f44e3] \u001b[39m\u001b[92m+ Base64\u001b[39m\n",
            " \u001b[90m [ade2ca70] \u001b[39m\u001b[92m+ Dates\u001b[39m\n",
            " \u001b[90m [8ba89e20] \u001b[39m\u001b[92m+ Distributed\u001b[39m\n",
            " \u001b[90m [7b1f6079] \u001b[39m\u001b[92m+ FileWatching\u001b[39m\n",
            " \u001b[90m [b77e0a4c] \u001b[39m\u001b[92m+ InteractiveUtils\u001b[39m\n",
            " \u001b[90m [76f85450] \u001b[39m\u001b[92m+ LibGit2\u001b[39m\n",
            " \u001b[90m [8f399da3] \u001b[39m\u001b[92m+ Libdl\u001b[39m\n",
            " \u001b[90m [56ddb016] \u001b[39m\u001b[92m+ Logging\u001b[39m\n",
            " \u001b[90m [d6f4376e] \u001b[39m\u001b[92m+ Markdown\u001b[39m\n",
            " \u001b[90m [a63ad114] \u001b[39m\u001b[92m+ Mmap\u001b[39m\n",
            " \u001b[90m [44cfe95a] \u001b[39m\u001b[92m+ Pkg\u001b[39m\n",
            " \u001b[90m [de0858da] \u001b[39m\u001b[92m+ Printf\u001b[39m\n",
            " \u001b[90m [3fa0cd96] \u001b[39m\u001b[92m+ REPL\u001b[39m\n",
            " \u001b[90m [9a3f8284] \u001b[39m\u001b[92m+ Random\u001b[39m\n",
            " \u001b[90m [ea8e919c] \u001b[39m\u001b[92m+ SHA\u001b[39m\n",
            " \u001b[90m [9e88b42a] \u001b[39m\u001b[92m+ Serialization\u001b[39m\n",
            " \u001b[90m [6462fe0b] \u001b[39m\u001b[92m+ Sockets\u001b[39m\n",
            " \u001b[90m [8dfed614] \u001b[39m\u001b[92m+ Test\u001b[39m\n",
            " \u001b[90m [cf7118a7] \u001b[39m\u001b[92m+ UUIDs\u001b[39m\n",
            " \u001b[90m [4ec0a83e] \u001b[39m\u001b[92m+ Unicode\u001b[39m\n",
            "\u001b[32m\u001b[1m   Building\u001b[22m\u001b[39m Conda ─→ `~/.julia/packages/Conda/1403Y/deps/build.log`\n",
            "\u001b[32m\u001b[1m   Building\u001b[22m\u001b[39m IJulia → `~/.julia/packages/IJulia/e8kqU/deps/build.log`\n",
            "\u001b[32m\u001b[1mPrecompiling\u001b[22m\u001b[39m project...\n",
            "DONE\n"
          ]
        }
      ]
    },
    {
      "cell_type": "code",
      "metadata": {
        "id": "v3hdAce-ASFm"
      },
      "source": [
        "using LinearAlgebra"
      ],
      "execution_count": null,
      "outputs": []
    },
    {
      "cell_type": "code",
      "metadata": {
        "colab": {
          "base_uri": "https://localhost:8080/"
        },
        "id": "4KlmJjlPub7r",
        "outputId": "cb8382c4-1f86-4242-d216-b4579a616c51"
      },
      "source": [
        "function formirajSimpleksTabelu(A, b, c)\n",
        "broj_kolona = size(A,2)\n",
        "j_matrica = I(size(b,2))+zeros(size(b,2),size(b,2))\n",
        "simplex_tabela= hcat(vcat(hcat(A, j_matrica),hcat(c,zeros(1, size(j_matrica,2)))), vcat(transpose(b),[0]))\n",
        "return simplex_tabela\n",
        "end"
      ],
      "execution_count": null,
      "outputs": [
        {
          "output_type": "execute_result",
          "data": {
            "text/plain": [
              "formirajSimpleksTabelu (generic function with 1 method)"
            ]
          },
          "metadata": {},
          "execution_count": 3
        }
      ]
    },
    {
      "cell_type": "markdown",
      "metadata": {
        "id": "ry8kFjyhNUWi"
      },
      "source": [
        "Ako u c vektoru nema pozitivnih elemenata, algoritam je dosao do kraja."
      ]
    },
    {
      "cell_type": "code",
      "metadata": {
        "colab": {
          "base_uri": "https://localhost:8080/"
        },
        "id": "FbcdStku-FPD",
        "outputId": "04a20da4-a407-4bf3-a22f-f21f25748b12"
      },
      "source": [
        "function jesunegativni(A)\n",
        "  for i=1:size(A,2)\n",
        "      if A[1,i] > 0\n",
        "        return 0\n",
        "      end\n",
        "  end\n",
        "  return 1\n",
        "end"
      ],
      "execution_count": null,
      "outputs": [
        {
          "output_type": "execute_result",
          "data": {
            "text/plain": [
              "jesunegativni (generic function with 1 method)"
            ]
          },
          "metadata": {},
          "execution_count": 4
        }
      ]
    },
    {
      "cell_type": "code",
      "metadata": {
        "colab": {
          "base_uri": "https://localhost:8080/"
        },
        "id": "_IrD0FKXKmOI",
        "outputId": "7131442a-e7af-460d-de03-9b546f544d3d"
      },
      "source": [
        "function nadiVodecuKolonu(A)\n",
        "        pozicija=1\n",
        "        max=0\n",
        "        for i=1:size(A,2)\n",
        "          if A[1,i]>0 && A[1,i] > max\n",
        "            max=A[1,i]\n",
        "            pozicija=i\n",
        "          end\n",
        "        end\n",
        "        return pozicija\n",
        "end\n"
      ],
      "execution_count": null,
      "outputs": [
        {
          "output_type": "execute_result",
          "data": {
            "text/plain": [
              "nadiVodecuKolonu (generic function with 1 method)"
            ]
          },
          "metadata": {},
          "execution_count": 5
        }
      ]
    },
    {
      "cell_type": "code",
      "metadata": {
        "colab": {
          "base_uri": "https://localhost:8080/"
        },
        "id": "XFrmZFh3KXKN",
        "outputId": "b8d45740-a1f9-4353-ac8f-0a154f0767f4"
      },
      "source": [
        "function nadiVodeciRed(A,B, indeks)\n",
        "    min=B[1,1]/A[1,indeks]\n",
        "    pozicija=1\n",
        "    for i=1:(size(A,1)-1)\n",
        "    if(A[i,indeks] <=0)\n",
        "      return 0\n",
        "    end\n",
        "    if(A[i,indeks] <=0)\n",
        "      return 0\n",
        "      end\n",
        "      if A[i, indeks] > 0 && B[1,i]/A[i,indeks]<min\n",
        "        min=B[1,i]/A[i,indeks]\n",
        "        pozicija=i\n",
        "      end\n",
        "    end\n",
        "    return pozicija\n",
        "end"
      ],
      "execution_count": null,
      "outputs": [
        {
          "output_type": "execute_result",
          "data": {
            "text/plain": [
              "nadiVodeciRed (generic function with 1 method)"
            ]
          },
          "metadata": {},
          "execution_count": 6
        }
      ]
    },
    {
      "cell_type": "markdown",
      "metadata": {
        "id": "5aZzzbvEMnqE"
      },
      "source": []
    },
    {
      "cell_type": "markdown",
      "metadata": {
        "id": "EDr964viM8rB"
      },
      "source": [
        "Ako u vodecoj koloni nema pozitivnih elemenata, rjesenje je u beskonacnosti."
      ]
    },
    {
      "cell_type": "code",
      "metadata": {
        "colab": {
          "base_uri": "https://localhost:8080/"
        },
        "id": "eLwmnpC91SGQ",
        "outputId": "4b2cc30e-8035-4801-f59d-b3a43f51ea52"
      },
      "source": [
        "\n",
        "function rijesi_simplex(A, b, c)\n",
        "          tabela=formirajSimpleksTabelu(A,b,c)\n",
        "          baza = vcat([size(A,2)+1:size(A,2)+size(A,1);],[0])\n",
        "          v_kolona=nadiVodecuKolonu(c)\n",
        "          v_red=nadiVodeciRed(tabela, b, v_kolona)\n",
        "          if(v_red == 0)\n",
        "          return \"Beskonacno\"\n",
        "          end\n",
        "          br_kolona=size(tabela,2)\n",
        "         while jesunegativni(transpose(tabela[size(tabela,1),:]))!=1\n",
        "         pivot=tabela[v_red, v_kolona]\n",
        "           for i=1:br_kolona\n",
        "           tabela[v_red, i]=tabela[v_red, i]/pivot\n",
        "           end\n",
        "           for i=1:size(tabela,1)\n",
        "              pom = tabela[i,v_kolona]\n",
        "              for j=1:size(tabela,2)\n",
        "                if j == v_kolona && tabela[i,v_kolona] <=0\n",
        "                  return 0\n",
        "                end \n",
        "                  if i != v_red\n",
        "                    tabela[i,j]=tabela[i,j]-pom*tabela[v_red,j]\n",
        "                  end\n",
        "              end\n",
        "            end\n",
        "              baza[v_red,1]=v_kolona\n",
        "              if jesunegativni(transpose(tabela[size(tabela,1),:]))!=1\n",
        "              v_kolona=nadiVodecuKolonu(tabela[size(tabela,1),:])\n",
        "              v_red=nadiVodeciRed(tabela, transpose(tabela[:,size(tabela,2)]), v_kolona) \n",
        "              if(v_red == 0)\n",
        "                return \"Beskonacno\"\n",
        "              end\n",
        "              end\n",
        "        end\n",
        "               rjesenje = hcat(baza, tabela[:,size(tabela,2)])\n",
        "              rjesenje[size(rjesenje,1), size(rjesenje,2)]*=(-1)\n",
        "          return rjesenje\n",
        "end\n",
        "\n"
      ],
      "execution_count": null,
      "outputs": [
        {
          "output_type": "execute_result",
          "data": {
            "text/plain": [
              "rijesi_simplex (generic function with 1 method)"
            ]
          },
          "metadata": {},
          "execution_count": 7
        }
      ]
    },
    {
      "cell_type": "markdown",
      "metadata": {
        "id": "vDWA3BiiZrVT"
      },
      "source": [
        "\\n"
      ]
    },
    {
      "cell_type": "markdown",
      "metadata": {
        "id": "dTTkbjuqZ5h2"
      },
      "source": [
        "\\n"
      ]
    },
    {
      "cell_type": "markdown",
      "metadata": {
        "id": "oYiBa9yJZ9IV"
      },
      "source": [
        "\\n"
      ]
    },
    {
      "cell_type": "code",
      "metadata": {
        "colab": {
          "base_uri": "https://localhost:8080/"
        },
        "id": "BPKRkAVt5LRF",
        "outputId": "0ee42dd0-4855-41d7-f881-de435fc55ebc"
      },
      "source": [
        "rijesi_simplex([0.5 0.3; 0.1 0.2], [150 60], [3 1])"
      ],
      "execution_count": null,
      "outputs": [
        {
          "output_type": "execute_result",
          "data": {
            "text/plain": [
              "3×2 Array{Float64,2}:\n",
              " 1.0  300.0\n",
              " 4.0   30.0\n",
              " 0.0  900.0"
            ]
          },
          "metadata": {},
          "execution_count": 8
        }
      ]
    },
    {
      "cell_type": "code",
      "metadata": {
        "colab": {
          "base_uri": "https://localhost:8080/"
        },
        "id": "9sPUn1aVK4fq",
        "outputId": "606ecc34-ce4c-4254-ab1a-e3a26bf0a071"
      },
      "source": [
        "rijesi_simplex([6 9; 2 1], [100 20], [2000 3000])"
      ],
      "execution_count": null,
      "outputs": [
        {
          "output_type": "execute_result",
          "data": {
            "text/plain": [
              "3×2 Array{Float64,2}:\n",
              " 2.0     11.1111\n",
              " 4.0      8.88889\n",
              " 0.0  33333.3"
            ]
          },
          "metadata": {},
          "execution_count": 11
        }
      ]
    },
    {
      "cell_type": "markdown",
      "metadata": {
        "id": "2zDC31m9MNN7"
      },
      "source": [
        "Prva kolona označava indekse varijabli koje ulaze u bazu, dok druga kolona predstavlja vrijendosti tih elemenata, osim sto zadnji element u prvoj koloni oznacava vrijednost Z. "
      ]
    },
    {
      "cell_type": "code",
      "metadata": {
        "colab": {
          "base_uri": "https://localhost:8080/"
        },
        "id": "vKveOJLSLl24",
        "outputId": "7e3d0640-9207-4639-d76e-92273cbfa1f6"
      },
      "source": [
        "rijesi_simplex([2.5 2.5 2.6; 1 1 1], [11.55 25.7], [17.5 15 13])"
      ],
      "execution_count": null,
      "outputs": [
        {
          "output_type": "execute_result",
          "data": {
            "text/plain": [
              "3×2 Array{Float64,2}:\n",
              " 1.0   4.62\n",
              " 5.0  21.08\n",
              " 0.0  80.85"
            ]
          },
          "metadata": {},
          "execution_count": 12
        }
      ]
    },
    {
      "cell_type": "code",
      "metadata": {
        "id": "fXVRjOuGSK3i",
        "colab": {
          "base_uri": "https://localhost:8080/"
        },
        "outputId": "3bbb63f8-94b9-44d9-9b8a-f43dbd6f8a58"
      },
      "source": [
        "function VodeciRed(A,B)\n",
        "  min=-1\n",
        "  for i = 1:size(B,1)-2\n",
        "      if A[i,1]/B[i,1]>0 \n",
        "          min=A[i,1]/B[i,1]\n",
        "          break\n",
        "        end\n",
        "    end\n",
        "    if min==-1 \n",
        "      return 0\n",
        "    end\n",
        "    pozicija=0\n",
        "    for i = 1:size(A,1)-2\n",
        "        if B[i,1]>0\n",
        "          q=A[i,1]/B[i,1]\n",
        "          if q<=min\n",
        "            min=q\n",
        "            pozicija=i\n",
        "          end\n",
        "      end\n",
        "    end\n",
        "    return pozicija      \n",
        "end\n",
        "\n",
        "\n",
        "\n",
        "\n",
        "\n"
      ],
      "execution_count": null,
      "outputs": [
        {
          "output_type": "execute_result",
          "data": {
            "text/plain": [
              "VodeciRed (generic function with 1 method)"
            ]
          },
          "metadata": {},
          "execution_count": 2
        }
      ]
    },
    {
      "cell_type": "code",
      "metadata": {
        "id": "xlCHAJ_VvsSw",
        "colab": {
          "base_uri": "https://localhost:8080/"
        },
        "outputId": "03e2d6f0-d349-48a4-95b5-25cfbbd1f32f"
      },
      "source": [
        "function VodecaKolona(A, vjestacke) \n",
        "  max=0\n",
        "  pozicija=0\n",
        "  for i=3:size(A, 2)\n",
        "    if A[1,i]>0 && A[1,i]>max && !((i-2) in vjestacke)\n",
        "      max=A[1,i]\n",
        "      pozicija=i\n",
        "      end\n",
        "  end\n",
        "  return pozicija\n",
        "end"
      ],
      "execution_count": null,
      "outputs": [
        {
          "output_type": "execute_result",
          "data": {
            "text/plain": [
              "VodecaKolona (generic function with 1 method)"
            ]
          },
          "metadata": {},
          "execution_count": 3
        }
      ]
    },
    {
      "cell_type": "code",
      "source": [
        "\n",
        "function rijesi_simplex(goal,c,A,b,csigns,vsigns)\n",
        "b = transpose(b);\n",
        "csigns = transpose(csigns);\n",
        "vsigns = transpose(vsigns);\n",
        "if size(A,2)!=size(c,2) || size(A,1)!=size(b,2) || size(c,2)!=size(vsigns,2) || size(b,2)!=size(csigns,2) || (goal!=\"min\" &&  goal!=\"max\")\n",
        "  return \"Greska ulaznih podataka\",\"\";\n",
        "end\n",
        "baza=zeros(1,size(csigns,2));\n",
        "M=zeros(1,size(A,2));\n",
        "brojac=size(c,2);\n",
        "vjestacke=Vector{Float64}();\n",
        "vjestackeParovi=zeros(1,size(csigns,2));\n",
        "dopunskeParovi=zeros(1, size(csigns,2));\n",
        "pom=c;\n",
        "\n",
        "# bi nepozitivno:#\n",
        "for i=1: size(b,1)\n",
        "  if b[i]<0\n",
        "    csigns[1,i]=(-1)*csigns[1,i];\n",
        "    for j=1; size(A, 2)\n",
        "      A[i,j]=(-1)*A[i,j];\n",
        "    end\n",
        "  end\n",
        "end\n",
        "\n",
        "parovi=zeros(1,size(c,2));\n",
        "#ogranicenja nisu >=#\n",
        "for i=1: size(vsigns, 2)\n",
        "  if vsigns[1,i]==-1\n",
        "        c[i]=(-1)*c[i];\n",
        "        for j=1: size(A, 1)\n",
        "          A[j,i]=(-1)*A[j,i];\n",
        "        end\n",
        "  elseif vsigns[1,i]==0\n",
        "    c=hcat(c, [(-1)*c[i]]);\n",
        "    M=hcat(M, [0]);\n",
        "    parovi[1,i]=size(A,2)+1;\n",
        "    kolona=A[:,i]\n",
        "    for j=1: size(kolona,1)\n",
        "      kolona[j,1]=(-1)*kolona[j,1];\n",
        "    end\n",
        "    A=hcat(A,kolona);\n",
        "    brojac=brojac+1;\n",
        "  end\n",
        "end\n",
        "\n",
        "#Dodavanje dopunskih i vještačkih varijabli#\n",
        "slobodni=0;\n",
        "for i=1: size(csigns,2)\n",
        "  if csigns[1,i]==-1\n",
        "      #ako je <= dodajemo dopunske:#\n",
        "      nova=zeros(size(A,1),1);\n",
        "      nova[i,1]=1;\n",
        "      A=hcat(A,nova);\n",
        "      M=hcat(M, [0]);\n",
        "      c=hcat(c, [0]);\n",
        "      brojac=brojac+1;\n",
        "      baza[1,i]=brojac;\n",
        "      dopunskeParovi[1,i]=size(c,2);\n",
        "   elseif csigns[i]==0\n",
        "      #ako je ograničenje = dodajemo vještačku: #\n",
        "      nova=zeros(size(A,1),1);\n",
        "      nova[i,1]=1;\n",
        "      A=hcat(A,nova);\n",
        "      M=hcat(M, [0]);\n",
        "      c=hcat(c, [0]);\n",
        "      if goal==\"max\"\n",
        "        for k=1: size(M, 2)\n",
        "          if k!=(brojac+1)\n",
        "            M[1,k]=A[1,k]-M[1,k];\n",
        "          end\n",
        "        end\n",
        "        slobodni=slobodni-b[1,i];\n",
        "      else\n",
        "       for k=1: size(M, 2)\n",
        "          if k!=(brojac+1)\n",
        "              M[1,k]=M[1,k]+A[i,k];\n",
        "            end\n",
        "        end\n",
        "        slobodni=slobodni+b[1,i];\n",
        "      end\n",
        "      brojac=brojac+1;\n",
        "      baza[1,i]=brojac;\n",
        "      push!(vjestacke, brojac);\n",
        "      vjestackeParovi[1,i]=size(c,2);\n",
        "      else \n",
        "      #Dodajemo dopunsku: #\n",
        "        nova=zeros(size(A,1),1);\n",
        "        nova[i,1]=-1;\n",
        "        A=hcat(A,nova);\n",
        "        M=hcat(M, [0]);\n",
        "        c=hcat(c, [0]);\n",
        "        brojac=brojac+1;\n",
        "        dopunskeParovi[1,i]=size(c,2);\n",
        "        #Dodajemo vještačku#\n",
        "        nova=zeros(size(A,1),1);\n",
        "        nova[i,1]=1;\n",
        "        A=hcat(A,nova);\n",
        "        M=hcat(M, [0]);\n",
        "        c=hcat(c, [0]);\n",
        "        if goal==\"max\"\n",
        "            for k=1: size(M, 2)\n",
        "              if k!=(brojac+1)\n",
        "                M[1,k]=A[i,k]-M[1,k];\n",
        "              end\n",
        "            end\n",
        "            slobodni=slobodni-b[1,i];\n",
        "       else\n",
        "          for k=1: size(M, 2)\n",
        "              if k!=(brojac+1)\n",
        "                  M[1,k]=M[1,k]+A[i,k];\n",
        "              end\n",
        "          end\n",
        "          slobodni=slobodni+b[1,i];\n",
        "      end\n",
        "      brojac=brojac+1;\n",
        "      baza[1,i]=brojac;\n",
        "      push!(vjestacke, brojac);\n",
        "      vjestackeParovi[1,i]=size(c,2);\n",
        "    end\n",
        "end\n",
        "\n",
        "#u slucaju minimizacije negiramo koeficjente u funkciji cilja#\n",
        "if goal==\"min\"\n",
        "  for i=1: size(c, 2)\n",
        "    c[1,i]=(-1)*c[1,i];\n",
        "  end\n",
        "end\n",
        "\n",
        "#Formiranje simplex tabele \n",
        "A=vcat(A, M);\n",
        "A=vcat(A,c);\n",
        "b=hcat(b, [slobodni 0]);\n",
        "A=hcat(transpose(b),A);\n",
        "baza=hcat(baza, [0 0]);\n",
        "A=hcat(transpose(baza),A);\n",
        "  nadjen=0\n",
        " while nadjen==0\n",
        "  posljednja=A[size(A,1),:];\n",
        "  pretposljednja=A[size(A,1)-1,:];\n",
        "  Mz=posljednja\n",
        "  vjestUBaziNisuNule=false;\n",
        "  vjestackeUBazi=false;\n",
        "  for i=1: size(A,1)-2\n",
        "    if A[i,1] in vjestacke\n",
        "      vjestackeUBazi=true;\n",
        "      if A[i,2]!=0.0\n",
        "        vjestUBaziNisuNule=true;\n",
        "        break;\n",
        "      end\n",
        "    end\n",
        "  end\n",
        "  if vjestackeUBazi\n",
        "    Mz=pretposljednja;\n",
        "  end\n",
        "  indeks_vodeca_kolona=VodecaKolona(transpose(Mz), vjestacke)\n",
        "    if indeks_vodeca_kolona==0 && vjestackeUBazi && vjestUBaziNisuNule\n",
        "      return \"Problem nema rjesenja\",\"\";\n",
        "    elseif indeks_vodeca_kolona==0 \n",
        "    break\n",
        "  end\n",
        "  vodeca_kolona=A[:,indeks_vodeca_kolona]\n",
        "  b_kolona=A[:,2]\n",
        "  indeks_vodeci_red=VodeciRed(b_kolona, vodeca_kolona)\n",
        "  if indeks_vodeci_red==0\n",
        "     return \"rjesenje u besonacnosti\",\"\";  \n",
        "  end\n",
        "  A[indeks_vodeci_red,1]=indeks_vodeca_kolona-2\n",
        "  pivot=A[indeks_vodeci_red, indeks_vodeca_kolona]\n",
        "  #Djeljenje svih elemenata u vodećem redu sa pivotom#\n",
        "  for i=2:size(A, 2)\n",
        "      A[indeks_vodeci_red,i]=A[indeks_vodeci_red,i]/pivot\n",
        "  end\n",
        "\n",
        "  #Azuriranje tabele#\n",
        "  for i=1: size(A,1)\n",
        "      if i!=indeks_vodeci_red\n",
        "        faktor=A[i,indeks_vodeca_kolona]\n",
        "          for j=2:size(A,2)\n",
        "            A[i,j]=A[i,j]-faktor*A[indeks_vodeci_red,j]\n",
        "          end\n",
        "      end \n",
        "  end\n",
        "end\n",
        "#Očitavanje optimalnog rješenja:#\n",
        "nedegenerirano = true;\n",
        " rjesenje=zeros(1,size(A,2)-2)\n",
        "    for i=1:size(A, 1)-2\n",
        "      rjesenje[Int(A[i,1])]=A[i,2]\n",
        "    end\n",
        "    for i=1:size(A, 1)-2\n",
        "        if A[i,2] == 0 nedegenerirano = false;\n",
        "        break;\n",
        "      end\n",
        "    end\n",
        "    Z=A[size(A,1),2]\n",
        "    if goal==\"max\"\n",
        "        Z=Z*(-1);\n",
        "    end\n",
        "    #Očitavanje vrijedosti promjenljivih#    \n",
        "    opt_izvorne_prom=rjesenje[:, 1:size(pom,2)];\n",
        "    for i=1: size(pom, 2)\n",
        "        if parovi[1, i]!=0\n",
        "          opt_izvorne_prom[1,i]=opt_izvorne_prom[1,i]-rjesenje[1, Int(parovi[1,Int(i)])];\n",
        "        end\n",
        "    end\n",
        "    return Z, opt_izvorne_prom\n",
        "    return true; \n",
        "end\n"
      ],
      "metadata": {
        "id": "_Hz4UYwTZ18d",
        "colab": {
          "base_uri": "https://localhost:8080/"
        },
        "outputId": "bac72201-c3b7-4fa9-8338-1c7dce742676"
      },
      "execution_count": null,
      "outputs": [
        {
          "output_type": "execute_result",
          "data": {
            "text/plain": [
              "rijesi_simplex (generic function with 1 method)"
            ]
          },
          "metadata": {},
          "execution_count": 27
        }
      ]
    },
    {
      "cell_type": "code",
      "source": [
        "goal=\"max\"\n",
        "        c=[3000 2000 1000]\n",
        "        A=[1 0 2; 2 2 1; 0 1 0]\n",
        "        b=[1000; 2500; 400]\n",
        "        csigns=[0;0;0]\n",
        "        vsigns=[1; 1]\n",
        "        Z, opt_izvorne_prom = rijesi_simplex(goal,c,A,b,csigns,vsigns)\n",
        "        print(\"Z: \")\n",
        "        println(Z)\n",
        "        print(\"X: \")\n",
        "        println(opt_izvorne_prom)"
      ],
      "metadata": {
        "colab": {
          "base_uri": "https://localhost:8080/"
        },
        "id": "jBdDImdNb6EG",
        "outputId": "fa8e2ce2-127f-42b4-de17-9eb12373ce66"
      },
      "execution_count": null,
      "outputs": [
        {
          "output_type": "stream",
          "name": "stdout",
          "text": [
            "Z: Greska ulaznih podataka\n",
            "X: \n"
          ]
        }
      ]
    },
    {
      "cell_type": "code",
      "source": [
        "rijesi_simplex(\"min\", [32 56 50 60], [1 1 1 1;250 150 400 200;0 0 0 1;0 1 1 0], [1;300;0.3;0.5],[0;1;-1;-1],[1; 1; 1; 1])"
      ],
      "metadata": {
        "colab": {
          "base_uri": "https://localhost:8080/"
        },
        "id": "0UXIj_E9iqwP",
        "outputId": "6600e477-b32e-49d5-f445-1f24034e56cb"
      },
      "execution_count": null,
      "outputs": [
        {
          "output_type": "execute_result",
          "data": {
            "text/plain": [
              "(37.99999999999999, [0.6666666666666666 0.0 0.33333333333333337 0.0])"
            ]
          },
          "metadata": {},
          "execution_count": 30
        }
      ]
    },
    {
      "cell_type": "code",
      "source": [
        "goal=\"min\"\n",
        "        c=[0.36 0.51]\n",
        "        A=[0.31 0.08;0.52 0.46; 0.59 0.43]\n",
        "        b=[15.52;4.94;4.94]\n",
        "        csigns=[-1;0;1]\n",
        "        vsigns=[1; 1]\n",
        "        Z, opt_izvorne_prom = rijesi_simplex(goal,c,A,b,csigns,vsigns)\n",
        "        print(\"Z: \")\n",
        "        println(Z)\n",
        "        print(\"X: \")\n",
        "        println(opt_izvorne_prom)"
      ],
      "metadata": {
        "colab": {
          "base_uri": "https://localhost:8080/"
        },
        "id": "hOnxu_fdrsRd",
        "outputId": "6f82a892-0d23-41c2-f40f-39b79ff2f992"
      },
      "execution_count": null,
      "outputs": [
        {
          "output_type": "stream",
          "name": "stdout",
          "text": [
            "Z: 3.42\n",
            "X: [9.500000000000002 0.0]\n"
          ]
        }
      ]
    },
    {
      "cell_type": "code",
      "source": [
        "goal=\"max\"\n",
        "        c=[40 30]\n",
        "        A=[3 1.5;1 1;2 1;3 4;1 0;0 1]\n",
        "        b=[300;80;200;360;60;60]\n",
        "        csigns=[-1;-1;-1;-1;-1;-1]\n",
        "        vsigns=[1; 1]\n",
        "        Z, opt_izvorne_prom = rijesi_simplex(goal,c,A,b,csigns,vsigns)\n",
        "        print(\"Z: \")\n",
        "        println(Z)\n",
        "        print(\"X: \")\n",
        "        println(opt_izvorne_prom)"
      ],
      "metadata": {
        "colab": {
          "base_uri": "https://localhost:8080/"
        },
        "id": "eNAOMh-0kAQ7",
        "outputId": "d4af44ec-fc46-43d6-da13-eef6c96df5c5"
      },
      "execution_count": null,
      "outputs": [
        {
          "output_type": "stream",
          "name": "stdout",
          "text": [
            "Z: 3000.0\n",
            "X: [60.0 20.0]\n"
          ]
        }
      ]
    },
    {
      "cell_type": "code",
      "source": [
        "goal=\"min\"\n",
        "c=[0.35 0.53]\n",
        "A=[0.25 0.15; 0.45 0.55; 0.65 0.45]\n",
        "b=[6.75;2.09;2.09]\n",
        "csigns=[-1;0;1]\n",
        "vsigns=[1;1]\n",
        "        Z, opt_izvorne_prom = rijesi_simplex(goal,c,A,b,csigns,vsigns)\n",
        "        print(\"Z: \")\n",
        "        println(Z)\n",
        "        print(\"X: \")\n",
        "        println(opt_izvorne_prom)"
      ],
      "metadata": {
        "colab": {
          "base_uri": "https://localhost:8080/"
        },
        "id": "VFkiQL5Xpn1e",
        "outputId": "2b3247a2-0045-47f1-ff6f-84c2311640a2"
      },
      "execution_count": null,
      "outputs": [
        {
          "output_type": "stream",
          "name": "stdout",
          "text": [
            "Z: 1.6255555555555552\n",
            "X: [4.644444444444444 0.0]\n"
          ]
        }
      ]
    }
  ]
}