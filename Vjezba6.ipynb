{
  "nbformat": 4,
  "nbformat_minor": 0,
  "metadata": {
    "colab": {
      "provenance": [],
      "collapsed_sections": []
    },
    "kernelspec": {
      "name": "julia-1.5",
      "display_name": "Julia 1.5"
    },
    "accelerator": "GPU"
  },
  "cells": [
    {
      "cell_type": "markdown",
      "metadata": {
        "id": "TjavZvG9KwvF"
      },
      "source": [
        "### **Postavka Julie u Google Colab**\n",
        "\n",
        "Potrebno je preuzeti ovaj notebook, upload-ovati ga i pokrenuti kôd ispod prilikom kreiranja notebook-a za sve vježbe. Nakon pokretanja, potrebno je restartovati notebook. U *Runtime* kliknite na *Change runtime type* i odaberite Juliu i GPU. Sada možete koristiti Juliu za sve što radite.\n",
        "\n",
        "U slučaju da vam krene izbacivati greške radi gubitka trenutne sesije izvršite sve naredbe opet i restartujte notebook.\n",
        "\n",
        "\n"
      ]
    },
    {
      "cell_type": "code",
      "metadata": {
        "id": "oMSuTc3pDlHv",
        "colab": {
          "base_uri": "https://localhost:8080/"
        },
        "outputId": "c1801cdf-2ee7-4787-f11c-86713cb653a4"
      },
      "source": [
        "!curl -sSL \"https://julialang-s3.julialang.org/bin/linux/x64/1.5/julia-1.5.2-linux-x86_64.tar.gz\" -o julia.tar.gz\n",
        "!tar -xzf julia.tar.gz -C /usr --strip-components 1\n",
        "!rm -rf julia.tar.gz*\n",
        "!julia -e 'using Pkg; pkg\"add IJulia; precompile\"'\n",
        "!echo \"DONE\""
      ],
      "execution_count": null,
      "outputs": [
        {
          "output_type": "stream",
          "name": "stdout",
          "text": [
            "\u001b[32m\u001b[1m Installing\u001b[22m\u001b[39m known registries into `~/.julia`\n",
            "######################################################################## 100.0%\n",
            "\u001b[32m\u001b[1m      Added\u001b[22m\u001b[39m registry `General` to `~/.julia/registries/General`\n",
            "\u001b[32m\u001b[1m  Resolving\u001b[22m\u001b[39m package versions...\n",
            "\u001b[32m\u001b[1m  Installed\u001b[22m\u001b[39m SoftGlobalScope ──── v1.1.0\n",
            "\u001b[32m\u001b[1m  Installed\u001b[22m\u001b[39m Zlib_jll ─────────── v1.2.11+18\n",
            "\u001b[32m\u001b[1m  Installed\u001b[22m\u001b[39m MozillaCACerts_jll ─ v2021.1.19+0\n",
            "\u001b[32m\u001b[1m  Installed\u001b[22m\u001b[39m ZeroMQ_jll ───────── v4.3.2+6\n",
            "\u001b[32m\u001b[1m  Installed\u001b[22m\u001b[39m ZMQ ──────────────── v1.2.1\n",
            "\u001b[32m\u001b[1m  Installed\u001b[22m\u001b[39m IJulia ───────────── v1.23.2\n",
            "\u001b[32m\u001b[1m  Installed\u001b[22m\u001b[39m MbedTLS ──────────── v1.0.3\n",
            "\u001b[32m\u001b[1m  Installed\u001b[22m\u001b[39m TOML ─────────────── v1.0.3\n",
            "\u001b[32m\u001b[1m  Installed\u001b[22m\u001b[39m LibCURL_jll ──────── v7.70.0+2\n",
            "\u001b[32m\u001b[1m  Installed\u001b[22m\u001b[39m Artifacts ────────── v1.3.0\n",
            "\u001b[32m\u001b[1m  Installed\u001b[22m\u001b[39m ArgTools ─────────── v1.1.1\n",
            "\u001b[32m\u001b[1m  Installed\u001b[22m\u001b[39m Conda ────────────── v1.6.0\n",
            "\u001b[32m\u001b[1m  Installed\u001b[22m\u001b[39m JSON ─────────────── v0.21.2\n",
            "\u001b[32m\u001b[1m  Installed\u001b[22m\u001b[39m Preferences ──────── v1.2.3\n",
            "\u001b[32m\u001b[1m  Installed\u001b[22m\u001b[39m MbedTLS_jll ──────── v2.16.8+1\n",
            "\u001b[32m\u001b[1m  Installed\u001b[22m\u001b[39m VersionParsing ───── v1.2.1\n",
            "\u001b[32m\u001b[1m  Installed\u001b[22m\u001b[39m Parsers ──────────── v2.1.3\n",
            "\u001b[32m\u001b[1m  Installed\u001b[22m\u001b[39m libsodium_jll ────── v1.0.19+0\n",
            "\u001b[32m\u001b[1m  Installed\u001b[22m\u001b[39m LibSSH2_jll ──────── v1.9.0+3\n",
            "\u001b[32m\u001b[1m  Installed\u001b[22m\u001b[39m JLLWrappers ──────── v1.3.0\n",
            "\u001b[32m\u001b[1m  Installed\u001b[22m\u001b[39m nghttp2_jll ──────── v1.40.0+2\n",
            "\u001b[32m\u001b[1m  Installed\u001b[22m\u001b[39m NetworkOptions ───── v1.2.0\n",
            "\u001b[32m\u001b[1m  Installed\u001b[22m\u001b[39m Downloads ────────── v1.6.0\n",
            "\u001b[32m\u001b[1m  Installed\u001b[22m\u001b[39m LibCURL ──────────── v0.6.3\n",
            "\u001b[32m\u001b[1mDownloading\u001b[22m\u001b[39m artifact: ZeroMQ\n",
            "######################################################################## 100.0%\n",
            "\u001b[1A\u001b[2K\u001b[?25h\u001b[32m\u001b[1mDownloading\u001b[22m\u001b[39m artifact: Zlib\n",
            "######################################################################## 100.0%\n",
            "\u001b[1A\u001b[2K\u001b[?25h\u001b[32m\u001b[1mDownloading\u001b[22m\u001b[39m artifact: MozillaCACerts\n",
            "######################################################################## 100.0%\n",
            "\u001b[1A\u001b[2K\u001b[?25h\u001b[32m\u001b[1mDownloading\u001b[22m\u001b[39m artifact: LibCURL\n",
            "######################################################################## 100.0%\n",
            "\u001b[1A\u001b[2K\u001b[?25h\u001b[32m\u001b[1mDownloading\u001b[22m\u001b[39m artifact: MbedTLS\n",
            "######################################################################## 100.0%\n",
            "\u001b[1A\u001b[2K\u001b[?25h\u001b[32m\u001b[1mDownloading\u001b[22m\u001b[39m artifact: LibSSH2\n",
            "######################################################################## 100.0%\n",
            "\u001b[1A\u001b[2K\u001b[?25h\u001b[32m\u001b[1mDownloading\u001b[22m\u001b[39m artifact: libsodium\n",
            "######################################################################## 100.0%\n",
            "\u001b[1A\u001b[2K\u001b[?25h\u001b[32m\u001b[1mDownloading\u001b[22m\u001b[39m artifact: nghttp2\n",
            "######################################################################## 100.0%\n",
            "\u001b[1A\u001b[2K\u001b[?25h\u001b[32m\u001b[1mUpdating\u001b[22m\u001b[39m `~/.julia/environments/v1.5/Project.toml`\n",
            " \u001b[90m [7073ff75] \u001b[39m\u001b[92m+ IJulia v1.23.2\u001b[39m\n",
            "\u001b[32m\u001b[1mUpdating\u001b[22m\u001b[39m `~/.julia/environments/v1.5/Manifest.toml`\n",
            " \u001b[90m [0dad84c5] \u001b[39m\u001b[92m+ ArgTools v1.1.1\u001b[39m\n",
            " \u001b[90m [56f22d72] \u001b[39m\u001b[92m+ Artifacts v1.3.0\u001b[39m\n",
            " \u001b[90m [8f4d0f93] \u001b[39m\u001b[92m+ Conda v1.6.0\u001b[39m\n",
            " \u001b[90m [f43a241f] \u001b[39m\u001b[92m+ Downloads v1.6.0\u001b[39m\n",
            " \u001b[90m [7073ff75] \u001b[39m\u001b[92m+ IJulia v1.23.2\u001b[39m\n",
            " \u001b[90m [692b3bcd] \u001b[39m\u001b[92m+ JLLWrappers v1.3.0\u001b[39m\n",
            " \u001b[90m [682c06a0] \u001b[39m\u001b[92m+ JSON v0.21.2\u001b[39m\n",
            " \u001b[90m [b27032c2] \u001b[39m\u001b[92m+ LibCURL v0.6.3\u001b[39m\n",
            " \u001b[90m [deac9b47] \u001b[39m\u001b[92m+ LibCURL_jll v7.70.0+2\u001b[39m\n",
            " \u001b[90m [29816b5a] \u001b[39m\u001b[92m+ LibSSH2_jll v1.9.0+3\u001b[39m\n",
            " \u001b[90m [739be429] \u001b[39m\u001b[92m+ MbedTLS v1.0.3\u001b[39m\n",
            " \u001b[90m [c8ffd9c3] \u001b[39m\u001b[92m+ MbedTLS_jll v2.16.8+1\u001b[39m\n",
            " \u001b[90m [14a3606d] \u001b[39m\u001b[92m+ MozillaCACerts_jll v2021.1.19+0\u001b[39m\n",
            " \u001b[90m [ca575930] \u001b[39m\u001b[92m+ NetworkOptions v1.2.0\u001b[39m\n",
            " \u001b[90m [69de0a69] \u001b[39m\u001b[92m+ Parsers v2.1.3\u001b[39m\n",
            " \u001b[90m [21216c6a] \u001b[39m\u001b[92m+ Preferences v1.2.3\u001b[39m\n",
            " \u001b[90m [b85f4697] \u001b[39m\u001b[92m+ SoftGlobalScope v1.1.0\u001b[39m\n",
            " \u001b[90m [fa267f1f] \u001b[39m\u001b[92m+ TOML v1.0.3\u001b[39m\n",
            " \u001b[90m [81def892] \u001b[39m\u001b[92m+ VersionParsing v1.2.1\u001b[39m\n",
            " \u001b[90m [c2297ded] \u001b[39m\u001b[92m+ ZMQ v1.2.1\u001b[39m\n",
            " \u001b[90m [8f1865be] \u001b[39m\u001b[92m+ ZeroMQ_jll v4.3.2+6\u001b[39m\n",
            " \u001b[90m [83775a58] \u001b[39m\u001b[92m+ Zlib_jll v1.2.11+18\u001b[39m\n",
            " \u001b[90m [a9144af2] \u001b[39m\u001b[92m+ libsodium_jll v1.0.19+0\u001b[39m\n",
            " \u001b[90m [8e850ede] \u001b[39m\u001b[92m+ nghttp2_jll v1.40.0+2\u001b[39m\n",
            " \u001b[90m [2a0f44e3] \u001b[39m\u001b[92m+ Base64\u001b[39m\n",
            " \u001b[90m [ade2ca70] \u001b[39m\u001b[92m+ Dates\u001b[39m\n",
            " \u001b[90m [8ba89e20] \u001b[39m\u001b[92m+ Distributed\u001b[39m\n",
            " \u001b[90m [7b1f6079] \u001b[39m\u001b[92m+ FileWatching\u001b[39m\n",
            " \u001b[90m [b77e0a4c] \u001b[39m\u001b[92m+ InteractiveUtils\u001b[39m\n",
            " \u001b[90m [76f85450] \u001b[39m\u001b[92m+ LibGit2\u001b[39m\n",
            " \u001b[90m [8f399da3] \u001b[39m\u001b[92m+ Libdl\u001b[39m\n",
            " \u001b[90m [56ddb016] \u001b[39m\u001b[92m+ Logging\u001b[39m\n",
            " \u001b[90m [d6f4376e] \u001b[39m\u001b[92m+ Markdown\u001b[39m\n",
            " \u001b[90m [a63ad114] \u001b[39m\u001b[92m+ Mmap\u001b[39m\n",
            " \u001b[90m [44cfe95a] \u001b[39m\u001b[92m+ Pkg\u001b[39m\n",
            " \u001b[90m [de0858da] \u001b[39m\u001b[92m+ Printf\u001b[39m\n",
            " \u001b[90m [3fa0cd96] \u001b[39m\u001b[92m+ REPL\u001b[39m\n",
            " \u001b[90m [9a3f8284] \u001b[39m\u001b[92m+ Random\u001b[39m\n",
            " \u001b[90m [ea8e919c] \u001b[39m\u001b[92m+ SHA\u001b[39m\n",
            " \u001b[90m [9e88b42a] \u001b[39m\u001b[92m+ Serialization\u001b[39m\n",
            " \u001b[90m [6462fe0b] \u001b[39m\u001b[92m+ Sockets\u001b[39m\n",
            " \u001b[90m [8dfed614] \u001b[39m\u001b[92m+ Test\u001b[39m\n",
            " \u001b[90m [cf7118a7] \u001b[39m\u001b[92m+ UUIDs\u001b[39m\n",
            " \u001b[90m [4ec0a83e] \u001b[39m\u001b[92m+ Unicode\u001b[39m\n",
            "\u001b[32m\u001b[1m   Building\u001b[22m\u001b[39m Conda ─→ `~/.julia/packages/Conda/1403Y/deps/build.log`\n",
            "\u001b[32m\u001b[1m   Building\u001b[22m\u001b[39m IJulia → `~/.julia/packages/IJulia/e8kqU/deps/build.log`\n"
          ]
        }
      ]
    },
    {
      "cell_type": "code",
      "source": [
        "using LinearAlgebra"
      ],
      "metadata": {
        "id": "Dvat-2OxYrD7"
      },
      "execution_count": null,
      "outputs": []
    },
    {
      "cell_type": "code",
      "source": [
        "function nadjiPocetnoSZU(C,I,O)\n",
        "\n",
        "m = zeros(size(C,1),size(C,2))\n",
        "\n",
        "i=1\n",
        "j=1\n",
        "Z=0\n",
        "while i <= size(C,1)\n",
        "while j <= size(C,2)\n",
        "   min = I[1,i]\n",
        "   if min > O[1,j] min = O[1,j] \n",
        "   end\n",
        " \n",
        "   m[i,j] = min \n",
        "   Z=Z+min*C[i,j]\n",
        "   I[1,i]=I[1,i]-min\n",
        "   O[1,j]=O[1,j]-min\n",
        "   if I[1,i]==0 && O[1,j]==0 \n",
        "   i=i+1\n",
        "   j=j+1\n",
        "   elseif I[1,i]>0  j=j+1\n",
        "   elseif O[1,j]>0 i=i+1\n",
        "   end\n",
        "   if i==size(C,1) && j==size(C,2)\n",
        "    min = I[1,i]\n",
        "   if min > O[1,j] min = O[1,j] \n",
        "   end\n",
        "    m[i,j] = min \n",
        "   Z=Z+min*C[i,j]\n",
        "      return m,Z\n",
        "      end\n",
        "  end\n",
        "  end\n",
        "\n",
        "  end\n",
        "\n",
        "\n",
        "   \n",
        "\n",
        "   \n"
      ],
      "metadata": {
        "id": "0irmUHBsMuca",
        "colab": {
          "base_uri": "https://localhost:8080/"
        },
        "outputId": "af708982-d053-49cd-f065-e39d5bfa1624"
      },
      "execution_count": null,
      "outputs": [
        {
          "output_type": "execute_result",
          "data": {
            "text/plain": [
              "nadjiPocetnoSZU (generic function with 1 method)"
            ]
          },
          "metadata": {},
          "execution_count": 59
        }
      ]
    },
    {
      "cell_type": "code",
      "source": [
        "nadjiPocetnoSZU([8 9 4 6; 6 9 5 3; 5 6 7 4], [100 120 140], [90 125 80 65])"
      ],
      "metadata": {
        "colab": {
          "base_uri": "https://localhost:8080/"
        },
        "id": "pOG4ZEfAgDl0",
        "outputId": "364c6818-77a5-4cae-8b51-baf2ce5e3b86"
      },
      "execution_count": null,
      "outputs": [
        {
          "output_type": "execute_result",
          "data": {
            "text/plain": [
              "([90.0 10.0 0.0 0.0; 0.0 115.0 5.0 0.0; 0.0 0.0 75.0 65.0], 2655)"
            ]
          },
          "metadata": {},
          "execution_count": 60
        }
      ]
    },
    {
      "cell_type": "code",
      "source": [
        "nadjiPocetnoSZU([2 3 1;5 4 8;5 6 8], [20 15 40], [20 30 25])"
      ],
      "metadata": {
        "colab": {
          "base_uri": "https://localhost:8080/"
        },
        "id": "8ugJZalgY-dr",
        "outputId": "5e2f652a-2d7c-402c-fbd6-16340ca53b16"
      },
      "execution_count": null,
      "outputs": [
        {
          "output_type": "execute_result",
          "data": {
            "text/plain": [
              "([20.0 0.0 0.0; 0.0 15.0 0.0; 0.0 15.0 25.0], 390)"
            ]
          },
          "metadata": {},
          "execution_count": 61
        }
      ]
    },
    {
      "cell_type": "code",
      "source": [
        "nadjiPocetnoSZU([10 12 0; 8 4 6; 6 9 4; 7 8 5], [20 30 20 10], [40 10 30])"
      ],
      "metadata": {
        "colab": {
          "base_uri": "https://localhost:8080/"
        },
        "id": "i_3-hLbJcpWf",
        "outputId": "8dee8bf2-e569-4cde-ad74-e69a8c28243a"
      },
      "execution_count": null,
      "outputs": [
        {
          "output_type": "execute_result",
          "data": {
            "text/plain": [
              "([20.0 0.0 0.0; 20.0 10.0 0.0; 0.0 0.0 20.0; 0.0 0.0 10.0], 530)"
            ]
          },
          "metadata": {},
          "execution_count": 63
        }
      ]
    },
    {
      "cell_type": "code",
      "source": [
        "nadjiPocetnoSZU([4 2 5 7 6; 7 8 3 4 5; 2 1 4 3 2], [20 110 120], [70 40 30 60 50])"
      ],
      "metadata": {
        "colab": {
          "base_uri": "https://localhost:8080/"
        },
        "id": "mu50vU6idDLv",
        "outputId": "66a8d85f-e7dd-417c-dc03-d0cfcc046b8e"
      },
      "execution_count": null,
      "outputs": [
        {
          "output_type": "execute_result",
          "data": {
            "text/plain": [
              "([20.0 0.0 … 0.0 0.0; 50.0 40.0 … 0.0 0.0; 0.0 0.0 … 60.0 50.0], 1130)"
            ]
          },
          "metadata": {},
          "execution_count": 64
        }
      ]
    }
  ]
}