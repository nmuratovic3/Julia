{
  "nbformat": 4,
  "nbformat_minor": 0,
  "metadata": {
    "colab": {
      "provenance": [],
      "collapsed_sections": []
    },
    "kernelspec": {
      "name": "julia-1.5",
      "display_name": "Julia 1.5"
    },
    "accelerator": "GPU"
  },
  "cells": [
    {
      "cell_type": "markdown",
      "metadata": {
        "id": "TjavZvG9KwvF"
      },
      "source": [
        "### **Postavka Julie u Google Colab**\n",
        "\n",
        "Potrebno je preuzeti ovaj notebook, upload-ovati ga i pokrenuti kôd ispod prilikom kreiranja notebook-a za sve vježbe. Nakon pokretanja, potrebno je restartovati notebook. U *Runtime* kliknite na *Change runtime type* i odaberite Juliu i GPU. Sada možete koristiti Juliu za sve što radite.\n",
        "\n",
        "U slučaju da vam krene izbacivati greške radi gubitka trenutne sesije izvršite sve naredbe opet i restartujte notebook.\n",
        "\n",
        "\n"
      ]
    },
    {
      "cell_type": "code",
      "metadata": {
        "id": "oMSuTc3pDlHv",
        "colab": {
          "base_uri": "https://localhost:8080/",
          "height": 148
        },
        "outputId": "989ff50f-3086-48d5-9b0f-43ff4d1fad71"
      },
      "source": [
        "!curl -sSL \"https://julialang-s3.julialang.org/bin/linux/x64/1.5/julia-1.5.2-linux-x86_64.tar.gz\" -o julia.tar.gz\n",
        "!tar -xzf julia.tar.gz -C /usr --strip-components 1\n",
        "!rm -rf julia.tar.gz*\n",
        "!julia -e 'using Pkg; pkg\"add IJulia; precompile\"'\n",
        "!echo \"DONE\""
      ],
      "execution_count": null,
      "outputs": [
        {
          "output_type": "error",
          "ename": "LoadError",
          "evalue": "ignored",
          "traceback": [
            "\u001b[91msyntax: extra token \"\"\" after end of expression\u001b[39m",
            "",
            "Stacktrace:",
            " [1] top-level scope at In[9]:1",
            " [2] include_string(::Function, ::Module, ::String, ::String) at ./loading.jl:1091"
          ]
        }
      ]
    },
    {
      "cell_type": "code",
      "source": [
        "using LinerAlgebra"
      ],
      "metadata": {
        "colab": {
          "base_uri": "https://localhost:8080/",
          "height": 182
        },
        "id": "IQfF4gfT3cJt",
        "outputId": "3db51056-befe-471d-db55-2a3041920e43"
      },
      "execution_count": null,
      "outputs": [
        {
          "output_type": "error",
          "ename": "LoadError",
          "evalue": "ignored",
          "traceback": [
            "\u001b[91mArgumentError: Package LinerAlgebra not found in current path:\u001b[39m\n\u001b[91m- Run `import Pkg; Pkg.add(\"LinerAlgebra\")` to install the LinerAlgebra package.\u001b[39m\n",
            "",
            "Stacktrace:",
            " [1] require(::Module, ::Symbol) at ./loading.jl:893",
            " [2] include_string(::Function, ::Module, ::String, ::String) at ./loading.jl:1091"
          ]
        }
      ]
    },
    {
      "cell_type": "code",
      "source": [
        "function rasporedi(M)\n",
        "\n",
        "for i=1:size(M,1)\n",
        " min=M[i,1]\n",
        " for j=1:size(M,2)\n",
        " if min>M[i,j]\n",
        " min = M[i,j]\n",
        " end\n",
        " end \n",
        "for j=1:size(M,2)\n",
        "M[i,j]=M[i,j]-min\n",
        "end\n",
        "end\n",
        "\n",
        "for j=1:size(M,2)\n",
        "min=M[1,j]\n",
        " for i =1:size(M,1)\n",
        " if M[i,j]<min\n",
        " min=M[i,j]\n",
        " end\n",
        " end\n",
        " for i=i=1:size(M,1)\n",
        " M[i,j]=M[i,j]-min\n",
        " end\n",
        " end\n",
        "\n",
        "oznacikolonu=1\n",
        " for i=1:size(M,1)\n",
        " jedna=0\n",
        " for j=1:size(M,2)\n",
        " if M[i,j]==0\n",
        "   jedna=jedna+1\n",
        "   oznacikolonu=j\n",
        " end\n",
        " if jedna==1\n",
        " for j=1:size(M,2)\n",
        " if M[i,j]==0 M[i,j]=-1\n",
        " end\n",
        " end\n",
        " for k=1:size(M,2)\n",
        " if M[k,oznacikolonu]==0\n",
        " M[k,oznacikolonu]=-2\n",
        " end\n",
        " end\n",
        " end\n",
        "\n",
        "\n",
        " "
      ],
      "metadata": {
        "id": "Ew8NeMvgFZLw"
      },
      "execution_count": null,
      "outputs": []
    }
  ]
}