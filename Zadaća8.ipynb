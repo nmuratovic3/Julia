{
  "nbformat": 4,
  "nbformat_minor": 0,
  "metadata": {
    "colab": {
      "provenance": [],
      "collapsed_sections": []
    },
    "kernelspec": {
      "name": "julia-1.5",
      "display_name": "Julia 1.5"
    },
    "accelerator": "GPU"
  },
  "cells": [
    {
      "cell_type": "markdown",
      "metadata": {
        "id": "TjavZvG9KwvF"
      },
      "source": [
        "### **Postavka Julie u Google Colab**\n",
        "\n",
        "Potrebno je preuzeti ovaj notebook, upload-ovati ga i pokrenuti kôd ispod prilikom kreiranja notebook-a za sve vježbe. Nakon pokretanja, potrebno je restartovati notebook. U *Runtime* kliknite na *Change runtime type* i odaberite Juliu i GPU. Sada možete koristiti Juliu za sve što radite.\n",
        "\n",
        "U slučaju da vam krene izbacivati greške radi gubitka trenutne sesije izvršite sve naredbe opet i restartujte notebook.\n",
        "\n",
        "\n"
      ]
    },
    {
      "cell_type": "code",
      "metadata": {
        "id": "oMSuTc3pDlHv",
        "colab": {
          "base_uri": "https://localhost:8080/"
        },
        "outputId": "b3b7a5e8-03da-4677-b7ee-1b1b7de3a18e"
      },
      "source": [
        "!curl -sSL \"https://julialang-s3.julialang.org/bin/linux/x64/1.5/julia-1.5.2-linux-x86_64.tar.gz\" -o julia.tar.gz\n",
        "!tar -xzf julia.tar.gz -C /usr --strip-components 1\n",
        "!rm -rf julia.tar.gz*\n",
        "!julia -e 'using Pkg; pkg\"add IJulia; precompile\"'\n",
        "!echo \"DONE\""
      ],
      "execution_count": null,
      "outputs": [
        {
          "output_type": "stream",
          "name": "stdout",
          "text": [
            "\u001b[32m\u001b[1m   Updating\u001b[22m\u001b[39m registry at `~/.julia/registries/General`\n",
            "\u001b[32m\u001b[1m  Resolving\u001b[22m\u001b[39m package versions...\n",
            "\u001b[32m\u001b[1mNo Changes\u001b[22m\u001b[39m to `~/.julia/environments/v1.5/Project.toml`\n",
            "\u001b[32m\u001b[1mNo Changes\u001b[22m\u001b[39m to `~/.julia/environments/v1.5/Manifest.toml`\n",
            "\u001b[32m\u001b[1mPrecompiling\u001b[22m\u001b[39m project...\n",
            "DONE\n"
          ]
        }
      ]
    },
    {
      "cell_type": "code",
      "source": [
        "using Pkg;\n",
        "Pkg.add( \"JuMP\")\n",
        "Pkg.add( \"GLPK\")\n"
      ],
      "metadata": {
        "colab": {
          "base_uri": "https://localhost:8080/",
          "height": 130
        },
        "id": "-d_9ll-z9b4D",
        "outputId": "c0f80de3-d508-4881-b8a8-03672dfa12ed"
      },
      "execution_count": null,
      "outputs": [
        {
          "output_type": "error",
          "ename": "SyntaxError",
          "evalue": "ignored",
          "traceback": [
            "\u001b[0;36m  File \u001b[0;32m\"<ipython-input-17-831818f415fb>\"\u001b[0;36m, line \u001b[0;32m1\u001b[0m\n\u001b[0;31m    using Pkg;\u001b[0m\n\u001b[0m            ^\u001b[0m\n\u001b[0;31mSyntaxError\u001b[0m\u001b[0;31m:\u001b[0m invalid syntax\n"
          ]
        }
      ]
    },
    {
      "cell_type": "code",
      "source": [
        "using GLPK, JuMP"
      ],
      "metadata": {
        "colab": {
          "base_uri": "https://localhost:8080/",
          "height": 130
        },
        "id": "CPUTLvfm-L1-",
        "outputId": "a3c90a6d-2a85-4de0-e752-b7a2b6855d4d"
      },
      "execution_count": null,
      "outputs": [
        {
          "output_type": "error",
          "ename": "SyntaxError",
          "evalue": "ignored",
          "traceback": [
            "\u001b[0;36m  File \u001b[0;32m\"<ipython-input-15-da348f2f9879>\"\u001b[0;36m, line \u001b[0;32m1\u001b[0m\n\u001b[0;31m    using GLPK, JuMP\u001b[0m\n\u001b[0m             ^\u001b[0m\n\u001b[0;31mSyntaxError\u001b[0m\u001b[0;31m:\u001b[0m invalid syntax\n"
          ]
        }
      ]
    },
    {
      "cell_type": "code",
      "source": [
        "function sumaReda(n)\n",
        "zbir=0\n",
        "for i=1:size(n,2)\n",
        "zbir=zbir+n[1,i]\n",
        "end\n",
        "return zbir\n",
        "end"
      ],
      "metadata": {
        "colab": {
          "base_uri": "https://localhost:8080/",
          "height": 130
        },
        "id": "eTekdG6QFc5B",
        "outputId": "f8b24452-b58f-4f26-afed-a25c21ab159b"
      },
      "execution_count": null,
      "outputs": [
        {
          "output_type": "error",
          "ename": "SyntaxError",
          "evalue": "ignored",
          "traceback": [
            "\u001b[0;36m  File \u001b[0;32m\"<ipython-input-7-d477b80415e7>\"\u001b[0;36m, line \u001b[0;32m1\u001b[0m\n\u001b[0;31m    function sumaReda(n)\u001b[0m\n\u001b[0m                    ^\u001b[0m\n\u001b[0;31mSyntaxError\u001b[0m\u001b[0;31m:\u001b[0m invalid syntax\n"
          ]
        }
      ]
    },
    {
      "cell_type": "code",
      "source": [
        "function sumaKolone(n)\n",
        "zbir=0\n",
        "for i=1:size(n,1)\n",
        "zbir=zbir+n[i,1]\n",
        "end\n",
        "return zbir\n",
        "end"
      ],
      "metadata": {
        "id": "J9NJvpP_KRJT",
        "colab": {
          "base_uri": "https://localhost:8080/"
        },
        "outputId": "35027707-9c85-467f-d3a6-81899fc175e4"
      },
      "execution_count": null,
      "outputs": [
        {
          "output_type": "execute_result",
          "data": {
            "text/plain": [
              "sumaKolone (generic function with 1 method)"
            ]
          },
          "metadata": {},
          "execution_count": 4
        }
      ]
    },
    {
      "cell_type": "code",
      "source": [
        "using LinearAlgebra"
      ],
      "metadata": {
        "id": "FGFXVoTvGfNf",
        "colab": {
          "base_uri": "https://localhost:8080/",
          "height": 130
        },
        "outputId": "71f651bb-4683-4179-aca1-b39ad7f05885"
      },
      "execution_count": null,
      "outputs": [
        {
          "output_type": "error",
          "ename": "SyntaxError",
          "evalue": "ignored",
          "traceback": [
            "\u001b[0;36m  File \u001b[0;32m\"<ipython-input-9-ed052c8b77dd>\"\u001b[0;36m, line \u001b[0;32m1\u001b[0m\n\u001b[0;31m    using LinearAlgebra\u001b[0m\n\u001b[0m                      ^\u001b[0m\n\u001b[0;31mSyntaxError\u001b[0m\u001b[0;31m:\u001b[0m invalid syntax\n"
          ]
        }
      ]
    },
    {
      "cell_type": "code",
      "source": [
        "function transport(C,S,P)\n",
        "\n",
        "model = Model(GLPK.Optimizer)\n",
        "ujednaceno=1\n",
        "suma1=0\n",
        "suma2=0\n",
        "\n",
        "for i=1:size(S,2)\n",
        "   suma1=suma1+S[1,i]\n",
        "end\n",
        "for i=1:size(P,2)\n",
        "   suma2=suma2+P[1,i]\n",
        "end\n",
        "if suma1!=suma2\n",
        "    ujednaceno=0\n",
        "end\n",
        "\n",
        "@variable(model, x[1:size(S,1), 1:size(P,1)]>=0, Int)\n",
        "\n",
        "if ujednaceno==0\n",
        "     for i=1:size(C,1)\n",
        "       @constraint(model, sumaReda(C[i,:])<=S[i])\n",
        "     end\n",
        "else\n",
        "   for i=1:size(C,1)\n",
        "     @constraint(model, sumaReda(C[i,:])==S[i])\n",
        "   end\n",
        "end\n",
        "\n",
        "for i=1:size(C,2)\n",
        "   @constraint(model, sumaKolone(C[:,i])==P[i])\n",
        "end\n",
        "\n",
        "@objective(model, Min, sum(C.*x))\n",
        "\n",
        "optimize!(model)\n",
        "return x\n",
        "X=getvalue.(x)\n",
        "\n",
        "v=objective_value(model)\n",
        "return 1\n",
        "end\n",
        "\n",
        "   \n"
      ],
      "metadata": {
        "colab": {
          "base_uri": "https://localhost:8080/"
        },
        "id": "4AS_wZTH_MJS",
        "outputId": "e37a9245-2af3-47a6-cf3f-252056fa12e0"
      },
      "execution_count": null,
      "outputs": [
        {
          "output_type": "execute_result",
          "data": {
            "text/plain": [
              "transport (generic function with 1 method)"
            ]
          },
          "metadata": {},
          "execution_count": 60
        }
      ]
    },
    {
      "cell_type": "code",
      "source": [
        "transport([3 2 10;5 8 12; 4 10 5;7 15 10],[20 50 60 10], [20 40 30])"
      ],
      "metadata": {
        "colab": {
          "base_uri": "https://localhost:8080/"
        },
        "id": "jJLx5FnPSu61",
        "outputId": "b3010b37-2878-402b-f2c7-b1cbe8292969"
      },
      "execution_count": null,
      "outputs": [
        {
          "output_type": "execute_result",
          "data": {
            "text/plain": [
              "1×1 Array{VariableRef,2}:\n",
              " x[1,1]"
            ]
          },
          "metadata": {},
          "execution_count": 61
        }
      ]
    },
    {
      "cell_type": "code",
      "source": [
        "function transportt(C,S,P)\n",
        "model = Model(GLPK.Optimizer)\n",
        "nebal=false\n",
        "if(sum(P)!=sum(S))\n",
        "   nebal=true\n",
        "  end\n",
        "\n",
        "  m=size(C,2)\n",
        "  n=size(C,1)\n",
        "  @variable(model, x[1:n, 1:m]>=0, Int)\n",
        "\n",
        "  for i in 1:n\n",
        "    if(nebal)\n",
        "      @constraint(model, sum(x[i,:])<=S[i])\n",
        "    else\n",
        "       @constraint(model, sum(x[i,:])==S[i])\n",
        "      end\n",
        "      end\n",
        "\n",
        "      for i in 1:m\n",
        "       @constraint(model, sum(x[:,i])==P[i])\n",
        "       end\n",
        "\n",
        "       @objective(model, Min, sum(C.*x))\n",
        "\n",
        "       optimize!(model)\n",
        "       X=getvalue.(x)\n",
        "       v=objective_value(model)\n",
        "\n",
        "       return X,v\n",
        "\n",
        "       end"
      ],
      "metadata": {
        "colab": {
          "base_uri": "https://localhost:8080/",
          "height": 130
        },
        "id": "Tzi01Ai0Fk9X",
        "outputId": "99345953-2498-413d-939a-8a3a35058c8c"
      },
      "execution_count": null,
      "outputs": [
        {
          "output_type": "error",
          "ename": "SyntaxError",
          "evalue": "ignored",
          "traceback": [
            "\u001b[0;36m  File \u001b[0;32m\"<ipython-input-5-8637b505b9cc>\"\u001b[0;36m, line \u001b[0;32m1\u001b[0m\n\u001b[0;31m    function transportt(C,S,P)\u001b[0m\n\u001b[0m                      ^\u001b[0m\n\u001b[0;31mSyntaxError\u001b[0m\u001b[0;31m:\u001b[0m invalid syntax\n"
          ]
        }
      ]
    }
  ]
}